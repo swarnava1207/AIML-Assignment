{
 "cells": [
  {
   "cell_type": "code",
   "execution_count": 1,
   "metadata": {},
   "outputs": [
    {
     "name": "stdout",
     "output_type": "stream",
     "text": [
      "Test data :  [[0.26274511218070984, 0.30980393290519714, 0.26274511218070984, 0.5215686559677124, 0.3921568691730499, 0.3490196168422699, 0.529411792755127, 0.5960784554481506, 0.45098039507865906, 0.21176470816135406, 0.29411765933036804, 0.2666666805744171, 0.3490196168422699, 0.32549020648002625, 0.33725491166114807, 0.37254902720451355, 0.40784314274787903, 0.3450980484485626, 0.1725490242242813, 0.2823529541492462, 0.2666666805744171, 0.26274511218070984, 0.3019607961177826, 0.3333333432674408, 0.29019609093666077, 0.32156863808631897, 0.29411765933036804], -1.0]\n"
     ]
    }
   ],
   "source": [
    "import oracle\n",
    "import numpy as np\n",
    "import matplotlib.pyplot as plt\n",
    "\n",
    "data = oracle.q1_get_cifar100_train_test(23746)\n",
    "train_data = data[0]\n",
    "test_data = data[1]\n",
    "\n",
    "print(\"Test data : \", test_data[0])"
   ]
  },
  {
   "cell_type": "code",
   "execution_count": 2,
   "metadata": {},
   "outputs": [
    {
     "name": "stdout",
     "output_type": "stream",
     "text": [
      "(1000, 27)\n",
      "(1000,)\n",
      "(200, 27)\n",
      "(200,)\n"
     ]
    }
   ],
   "source": [
    "train_features = np.array([x[0] for x in train_data])\n",
    "train_labels = np.array([x[1] for x in train_data])\n",
    "test_features = np.array([x[0] for x in test_data])\n",
    "test_labels = np.array([x[1] for x in test_data])   \n",
    "\n",
    "print(train_features.shape)\n",
    "print(train_labels.shape)\n",
    "print(test_features.shape)\n",
    "print(test_labels.shape)"
   ]
  },
  {
   "cell_type": "code",
   "execution_count": 18,
   "metadata": {},
   "outputs": [],
   "source": [
    "def perceptron(train_features, train_labels, iterations):\n",
    "    # Initialize weights\n",
    "    w = np.zeros(train_features.shape[1])\n",
    "    b = 0\n",
    "    i = 0\n",
    "    while i < iterations:\n",
    "        #print(i)\n",
    "        flag = 0\n",
    "        for j in range(train_features.shape[0]):\n",
    "            if train_labels[j] * (np.dot(w, train_features[j]) + b) <= 0:\n",
    "                w += train_labels[j] * train_features[j]\n",
    "                b += train_labels[j]\n",
    "                flag = 1\n",
    "        if flag == 0:\n",
    "            break\n",
    "        i += 1 \n",
    "        \n",
    "\n",
    "    #print(\"Iterations done: \", i)\n",
    "    return w,i"
   ]
  },
  {
   "cell_type": "code",
   "execution_count": 19,
   "metadata": {},
   "outputs": [],
   "source": [
    "# w, b, i = perceptron(train_features, train_labels, 100000000000)\n",
    "# print(\"iterations: \", i)\n",
    "\n",
    "    "
   ]
  },
  {
   "cell_type": "code",
   "execution_count": 20,
   "metadata": {},
   "outputs": [],
   "source": [
    "def test_perceptron(iterations,test_features, test_labels):\n",
    "    w, i = perceptron(train_features, train_labels, iterations)\n",
    "    misclassified = 0\n",
    "    for j in range(test_features.shape[0]):\n",
    "        if test_labels[j] * (np.dot(w, test_features[j])) <= 0:\n",
    "            misclassified += 1\n",
    "    return misclassified/test_features.shape[0]"
   ]
  },
  {
   "cell_type": "code",
   "execution_count": 21,
   "metadata": {},
   "outputs": [
    {
     "name": "stdout",
     "output_type": "stream",
     "text": [
      "1000\n",
      "2000\n",
      "3000\n",
      "4000\n"
     ]
    }
   ],
   "source": [
    "iterations = [i * 1000 for i in range(1, 5)]\n",
    "error = []\n",
    "for i in iterations:\n",
    "    print(i)\n",
    "    error.append(test_perceptron(i, test_features, test_labels))\n",
    "    \n",
    "# plt.plot(iterations, error)\n",
    "# plt.xlabel('Iterations')\n",
    "# plt.ylabel('Error')\n",
    "# plt.title('Error vs Iterations')\n",
    "# plt.show()\n"
   ]
  },
  {
   "cell_type": "code",
   "execution_count": 22,
   "metadata": {},
   "outputs": [],
   "source": [
    "from cvxopt import matrix, solvers\n",
    "def SVM_with_slack(train_features, train_labels, C):\n",
    "    n = train_features.shape[0]\n",
    "    m = train_features.shape[1]\n",
    "    P = np.zeros((m+1+n, m+1+n))\n",
    "    for i in range(m):\n",
    "        P[i][i] = 1\n",
    "    q = np.zeros(m+1+n)\n",
    "    for i in range(m+1, m+1+n):\n",
    "        q[i] = C\n",
    "    h = np.zeros(2*n)\n",
    "    for i in range(n):\n",
    "        h[i] = -1\n",
    "    G = np.zeros((2*n, m+1+n))\n",
    "    for i in range(n):\n",
    "        for j in range(m):\n",
    "            G[i][j] = -train_labels[i] * train_features[i][j]\n",
    "        G[i][m] = -train_labels[i]\n",
    "        G[i][m+1+i] = -1\n",
    "    for i in range(n):\n",
    "        G[n+i][m+1+i] = -1\n",
    "    P = matrix(P)\n",
    "    q = matrix(q)\n",
    "    G = matrix(G)\n",
    "    h = matrix(h)\n",
    "    solvers.options['show_progress'] = False\n",
    "    sol = solvers.qp(P, q, G, h)\n",
    "    w = np.array(sol['x'][:m])\n",
    "    b = sol['x'][m]\n",
    "    w = w.reshape((m,))\n",
    "    return w, b"
   ]
  },
  {
   "cell_type": "code",
   "execution_count": 23,
   "metadata": {},
   "outputs": [
    {
     "name": "stdout",
     "output_type": "stream",
     "text": [
      "(692, 27)\n",
      "(692,)\n"
     ]
    }
   ],
   "source": [
    "train_features_separable = []\n",
    "train_labels_separable = []\n",
    "C = 10\n",
    "w,b = SVM_with_slack(train_features, train_labels, C)\n",
    "for i in range(train_features.shape[0]):\n",
    "    if train_labels[i] * (np.dot(w, train_features[i]) + b) > 0:\n",
    "        train_features_separable.append(train_features[i])\n",
    "        train_labels_separable.append(train_labels[i])\n",
    "train_features_separable = np.array(train_features_separable)\n",
    "train_labels_separable = np.array(train_labels_separable)\n",
    "print(train_features_separable.shape)\n",
    "print(train_labels_separable.shape) "
   ]
  },
  {
   "cell_type": "code",
   "execution_count": 25,
   "metadata": {},
   "outputs": [],
   "source": [
    "def test_svm(test_features, test_labels,c):\n",
    "    w, b = SVM_with_slack(train_features_separable, train_labels_separable, c)\n",
    "    misclassified = 0\n",
    "    for j in range(test_features.shape[0]):\n",
    "        if test_labels[j] * (np.dot(w, test_features[j]) + b) <= 0:\n",
    "            misclassified += 1\n",
    "    return misclassified/test_features.shape[0]"
   ]
  },
  {
   "cell_type": "code",
   "execution_count": 26,
   "metadata": {},
   "outputs": [],
   "source": [
    "c = [i * 10 for i in range(11, 15)]\n",
    "c = [i+0.5 for i in range(112,120)]\n",
    "c = [120]\n",
    "error = []\n",
    "for i in c:\n",
    "    error.append(test_svm(test_features, test_labels, i))\n",
    "# print(error)\n",
    "# plt.plot(c, error)\n",
    "# plt.xlabel('C')\n",
    "# plt.ylabel('Error')\n",
    "# plt.title('Error vs C')\n",
    "# plt.show()"
   ]
  },
  {
   "cell_type": "code",
   "execution_count": 27,
   "metadata": {},
   "outputs": [],
   "source": [
    "# w , i = perceptron(train_features_separable, train_labels_separable, 100000000000)\n",
    "# print(\"iterations: \", i)"
   ]
  },
  {
   "cell_type": "code",
   "execution_count": 15,
   "metadata": {},
   "outputs": [],
   "source": [
    "import cvxopt\n",
    "import cvxopt.solvers\n",
    "\n",
    "def gaussian_kernel(x1, x2, gamma):\n",
    "    return np.exp(-gamma * np.linalg.norm(x1 - x2) ** 2)\n",
    "\n",
    "def compute_kernel_matrix(X, gamma):\n",
    "    n_samples = X.shape[0]\n",
    "    K = np.zeros((n_samples, n_samples))\n",
    "    for i in range(n_samples):\n",
    "        for j in range(n_samples):\n",
    "            K[i, j] = gaussian_kernel(X[i], X[j], gamma)\n",
    "    return K\n",
    "\n",
    "def train_kernelized_svm(X, y, C=1.0, gamma=0.5):\n",
    "    n_samples, n_features = X.shape\n",
    "    K = compute_kernel_matrix(X, gamma)\n",
    "    \n",
    "    P = cvxopt.matrix(np.outer(y, y) * K)\n",
    "    q = cvxopt.matrix(-np.ones(n_samples))\n",
    "    A = cvxopt.matrix(y, (1, n_samples), 'd')\n",
    "    b = cvxopt.matrix(0.0)\n",
    "    G = cvxopt.matrix(np.vstack((-np.eye(n_samples), np.eye(n_samples))))\n",
    "    h = cvxopt.matrix(np.hstack((np.zeros(n_samples), np.ones(n_samples) * C)))\n",
    "    \n",
    "    solution = cvxopt.solvers.qp(P, q, G, h, A, b)\n",
    "    alphas = np.ravel(solution['x'])\n",
    "    \n",
    "    support_vectors = alphas > 1e-5\n",
    "    sv_X = X[support_vectors]\n",
    "    sv_y = y[support_vectors]\n",
    "    sv_alphas = alphas[support_vectors]\n",
    "    \n",
    "    b = np.mean([y_k - np.sum(sv_alphas * sv_y * K[support_vectors, k]) \n",
    "                 for k, y_k in enumerate(sv_y)])\n",
    "    \n",
    "    return sv_X, sv_y, sv_alphas, b, gamma\n",
    "\n",
    "def test_kernelized(train_features,train_labels, gamma, C):\n",
    "    sv_X, sv_y, sv_alphas, b, gamma = train_kernelized_svm(train_features, train_labels, C, gamma)\n",
    "    misclassified = 0\n",
    "    for j in range(test_features.shape[0]):\n",
    "        prediction = b\n",
    "        for i in range(sv_X.shape[0]):\n",
    "            prediction += sv_alphas[i] * sv_y[i] * gaussian_kernel(sv_X[i], test_features[j], gamma)\n",
    "        if prediction * test_labels[j] <= 0:\n",
    "            misclassified += 1\n",
    "    return misclassified/test_features.shape[0]\n",
    "\n"
   ]
  },
  {
   "cell_type": "code",
   "execution_count": 16,
   "metadata": {},
   "outputs": [
    {
     "name": "stdout",
     "output_type": "stream",
     "text": [
      "[0.35, 0.345, 0.35, 0.32, 0.32, 0.33, 0.325, 0.325, 0.315, 0.32, 0.335, 0.32, 0.325, 0.32, 0.325, 0.335, 0.32, 0.3, 0.305, 0.305, 0.34, 0.31, 0.295, 0.3, 0.295]\n"
     ]
    }
   ],
   "source": [
    "gammas = [0.1, 0.5, 1, 2, 5]\n",
    "C_values = [0.1, 0.5, 1, 2, 5]\n",
    "error = []\n",
    "for gamma in gammas:\n",
    "    for C in C_values:\n",
    "        error.append(test_kernelized(train_features_separable, train_labels_separable, gamma, C))\n",
    "print(error)"
   ]
  }
 ],
 "metadata": {
  "kernelspec": {
   "display_name": "Python 3",
   "language": "python",
   "name": "python3"
  },
  "language_info": {
   "codemirror_mode": {
    "name": "ipython",
    "version": 3
   },
   "file_extension": ".py",
   "mimetype": "text/x-python",
   "name": "python",
   "nbconvert_exporter": "python",
   "pygments_lexer": "ipython3",
   "version": "3.12.9"
  }
 },
 "nbformat": 4,
 "nbformat_minor": 2
}
